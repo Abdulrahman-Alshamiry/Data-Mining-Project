{
 "cells": [
  {
   "cell_type": "markdown",
   "metadata": {},
   "source": [
    "# Eclat Association Rules"
   ]
  },
  {
   "cell_type": "markdown",
   "metadata": {},
   "source": [
    "Introduction:\n",
    "Eclat (Equivalence Class Clustering and bottom-up Lattice Traversal) is an efficient algorithm used for mining frequent itemsets from transactional datasets. It operates on a vertical data representation, making it highly scalable and suitable for large datasets. In this blog, we will explore the working principles of the Eclat algorithm, discuss its core concepts, provide an example code implementation in Python, and examine its advantages and limitations.\n"
   ]
  },
  {
   "cell_type": "markdown",
   "metadata": {},
   "source": [
    "code :"
   ]
  },
  {
   "cell_type": "code",
   "execution_count": 1,
   "metadata": {},
   "outputs": [],
   "source": [
    "import pandas as pd"
   ]
  },
  {
   "cell_type": "markdown",
   "metadata": {},
   "source": [
    "In this code snippet, we first import the necessary libraries. We then define a sample transaction dataset represented by the dataset list of lists.\n",
    "\n",
    "Next, we perform one-hot encoding of the dataset using the TransactionEncoder from the mlxtend.preprocessing module. This step transforms the dataset into a binary matrix representation, where each column corresponds to an item and each row represents a transaction.\n",
    "\n",
    "After that, we create a DataFrame using the one-hot encoded matrix, assigning the column names based on the unique items in the dataset.\n",
    "\n",
    "We then apply the Eclat algorithm using the eclat() function from the mlxtend.frequent_patterns module. We specify the minimum support threshold as 0.3 and set use_colnames=True to use the item names in the resulting frequent itemsets.\n",
    "\n",
    "Finally, we print the frequent itemsets obtained from the Eclat algorithm."
   ]
  },
  {
   "cell_type": "code",
   "execution_count": 27,
   "metadata": {},
   "outputs": [
    {
     "name": "stdout",
     "output_type": "stream",
     "text": [
      "['apple', 'banana', 'cherry']\n",
      "['banana', 'orange']\n",
      "['apple', 'banana', 'grape']\n",
      "['banana', 'cherry']\n",
      "['apple', 'grape']\n",
      "['banana', 'orange']\n"
     ]
    }
   ],
   "source": [
    "dataset = [\n",
    "    {\"apple\", \"banana\", \"cherry\"},\n",
    "    {\"banana\", \"orange\"},\n",
    "    {\"apple\", \"banana\", \"grape\"},\n",
    "    {\"banana\", \"cherry\"},\n",
    "    {\"apple\", \"grape\"},\n",
    "    {\"banana\", \"orange\"},\n",
    "]\n",
    "\n",
    "fruits = [\"apple\", \"banana\", \"cherry\", \"grape\", \"orange\"]\n",
    "\n",
    "# Map fruit indices to names in the dataset\n",
    "mapped_dataset = [sorted([fruit for fruit in itemset], key=lambda x: fruits.index(x)) for itemset in dataset]\n",
    "\n",
    "# Print the mapped dataset\n",
    "for itemset in mapped_dataset:\n",
    "    print(itemset)"
   ]
  },
  {
   "cell_type": "code",
   "execution_count": 4,
   "metadata": {},
   "outputs": [],
   "source": [
    "dataset = [\n",
    "    {\"apple\", \"banana\", \"cherry\"},\n",
    "    {\"banana\", \"orange\"},\n",
    "    {\"apple\", \"banana\", \"grape\"},\n",
    "    {\"banana\", \"cherry\"},\n",
    "    {\"apple\", \"grape\"},\n",
    "    {\"banana\", \"orange\"},\n",
    "]"
   ]
  },
  {
   "cell_type": "code",
   "execution_count": 5,
   "metadata": {},
   "outputs": [],
   "source": [
    "items = set(item for transaction in dataset for item in transaction)"
   ]
  },
  {
   "cell_type": "code",
   "execution_count": 7,
   "metadata": {},
   "outputs": [
    {
     "data": {
      "text/plain": [
       "[[0, 1, 1, 1, 0],\n",
       " [1, 0, 1, 0, 0],\n",
       " [0, 1, 1, 0, 1],\n",
       " [0, 0, 1, 1, 0],\n",
       " [0, 1, 0, 0, 1],\n",
       " [1, 0, 1, 0, 0]]"
      ]
     },
     "execution_count": 7,
     "metadata": {},
     "output_type": "execute_result"
    }
   ],
   "source": [
    "binary_dataset = [[1 if item in transaction else 0 for item in items] for transaction in dataset]\n",
    "binary_dataset"
   ]
  },
  {
   "cell_type": "code",
   "execution_count": 8,
   "metadata": {},
   "outputs": [],
   "source": [
    "support_counts = {}"
   ]
  },
  {
   "cell_type": "code",
   "execution_count": 9,
   "metadata": {},
   "outputs": [],
   "source": [
    "for transaction in binary_dataset:\n",
    "    for i, item in enumerate(transaction):\n",
    "        if item == 1:\n",
    "            support_counts[i] = support_counts.get(i, 0) + 1"
   ]
  },
  {
   "cell_type": "code",
   "execution_count": 10,
   "metadata": {},
   "outputs": [],
   "source": [
    "sorted_items = sorted(support_counts.items(), key=lambda x: x[1], reverse=True)"
   ]
  },
  {
   "cell_type": "code",
   "execution_count": 11,
   "metadata": {},
   "outputs": [],
   "source": [
    "class EclatNode:\n",
    "    def __init__(self, item, support_count):\n",
    "        self.item = item\n",
    "        self.support_count = support_count\n",
    "        self.children = []"
   ]
  },
  {
   "cell_type": "code",
   "execution_count": 12,
   "metadata": {},
   "outputs": [],
   "source": [
    "root = EclatNode(None, 0)"
   ]
  },
  {
   "cell_type": "code",
   "execution_count": 13,
   "metadata": {},
   "outputs": [],
   "source": [
    "for item, support_count in sorted_items:\n",
    "    parent = root\n",
    "    for child in parent.children:\n",
    "        if child.item == item:\n",
    "            parent = child\n",
    "            break\n",
    "    else:\n",
    "        new_node = EclatNode(item, support_count)\n",
    "        parent.children.append(new_node)\n",
    "        parent = new_node\n",
    "    for i, transaction in enumerate(binary_dataset):\n",
    "        if transaction[item] == 1:\n",
    "            child_node = EclatNode(i, 1)\n",
    "            parent.children.append(child_node)"
   ]
  },
  {
   "cell_type": "code",
   "execution_count": 14,
   "metadata": {},
   "outputs": [],
   "source": [
    "def dfs_eclat(node, itemset, min_support):\n",
    "    # Check if the current itemset is frequent\n",
    "    if node.support_count >= min_support:\n",
    "        print(itemset)\n",
    "\n",
    "    # Recursively traverse child nodes\n",
    "    for child in node.children:\n",
    "        new_itemset = itemset.copy()\n",
    "        if child.item is not None:\n",
    "            new_itemset.append(child.item)\n",
    "        dfs_eclat(child, new_itemset, min_support)"
   ]
  },
  {
   "cell_type": "code",
   "execution_count": 17,
   "metadata": {},
   "outputs": [],
   "source": [
    "def dfs_eclat(node, prefix, min_support):\n",
    "    # Check if the current itemset is frequent\n",
    "    if len(node.children) > 0 and node.support_count >= min_support:\n",
    "        print(prefix)\n",
    "\n",
    "    # Recursively traverse child nodes\n",
    "    for child in node.children:\n",
    "        new_prefix = prefix.copy()\n",
    "        if child.item is not None:\n",
    "            new_prefix.append(child.item)\n",
    "        dfs_eclat(child, new_prefix, min_support)"
   ]
  },
  {
   "cell_type": "code",
   "execution_count": 18,
   "metadata": {},
   "outputs": [
    {
     "name": "stdout",
     "output_type": "stream",
     "text": [
      "[2]\n",
      "[1]\n",
      "[3]\n",
      "[0]\n",
      "[4]\n"
     ]
    }
   ],
   "source": [
    "min_support = 2  # Set your desired minimum support threshold\n",
    "dfs_eclat(root, [], min_support)"
   ]
  },
  {
   "cell_type": "code",
   "execution_count": 29,
   "metadata": {},
   "outputs": [
    {
     "name": "stdout",
     "output_type": "stream",
     "text": [
      "    support  itemsets\n",
      "0  0.500000   (apple)\n",
      "1  0.833333  (banana)\n"
     ]
    }
   ],
   "source": [
    "from mlxtend.preprocessing import TransactionEncoder\n",
    "from mlxtend.frequent_patterns import apriori\n",
    "\n",
    "dataset = [\n",
    "    {\"apple\", \"banana\", \"cherry\"},\n",
    "    {\"banana\", \"orange\"},\n",
    "    {\"apple\", \"banana\", \"grape\"},\n",
    "    {\"banana\", \"cherry\"},\n",
    "    {\"apple\", \"grape\"},\n",
    "    {\"banana\", \"orange\"},\n",
    "]\n",
    "\n",
    "# Transform the dataset into a one-hot encoded format\n",
    "te = TransactionEncoder()\n",
    "one_hot_encoded = te.fit_transform(dataset)\n",
    "df = pd.DataFrame(one_hot_encoded, columns=te.columns_)\n",
    "\n",
    "# Find frequent itemsets with minimum support of 0.5 using Apriori\n",
    "frequent_itemsets = apriori(df, min_support=0.5, use_colnames=True)\n",
    "\n",
    "# Print the frequent itemsets\n",
    "print(frequent_itemsets)"
   ]
  },
  {
   "cell_type": "code",
   "execution_count": 1,
   "metadata": {},
   "outputs": [],
   "source": [
    "from collections import defaultdict\n",
    "\n",
    "def eclat(dataset, min_support):\n",
    "    items = defaultdict(int)\n",
    "    for transaction in dataset:\n",
    "        for item in transaction:\n",
    "            items[item] += 1\n",
    "\n",
    "    frequent_itemsets = []\n",
    "    stack = [([], dataset)]\n",
    "    while stack:\n",
    "        prefix, subset = stack.pop()\n",
    "        for item, support in items.items():\n",
    "            if support >= min_support and any(item in transaction for transaction in subset):\n",
    "                frequent_itemsets.append(prefix + [item])\n",
    "                new_subset = [transaction for transaction in subset if item in transaction]\n",
    "                stack.append((prefix + [item], new_subset))\n",
    "\n",
    "    return frequent_itemsets\n",
    "\n",
    "dataset = [\n",
    "    [\"apple\", \"banana\", \"cherry\"],\n",
    "    [\"banana\", \"orange\"],\n",
    "    [\"apple\", \"banana\", \"grape\"],\n",
    "    [\"banana\", \"cherry\"],\n",
    "    [\"apple\", \"grape\"],\n",
    "    [\"banana\", \"orange\"],\n",
    "]\n",
    "\n",
    "min_support = 2  # Minimum support count\n",
    "\n",
    "frequent_itemsets = eclat(dataset, min_support)\n",
    "\n",
    "# Print the frequent itemsets\n",
    "for itemset in frequent_itemsets:\n",
    "    print(itemset)"
   ]
  },
  {
   "cell_type": "code",
   "execution_count": 1,
   "metadata": {},
   "outputs": [
    {
     "data": {
      "text/html": [
       "<div>\n",
       "<style scoped>\n",
       "    .dataframe tbody tr th:only-of-type {\n",
       "        vertical-align: middle;\n",
       "    }\n",
       "\n",
       "    .dataframe tbody tr th {\n",
       "        vertical-align: top;\n",
       "    }\n",
       "\n",
       "    .dataframe thead th {\n",
       "        text-align: right;\n",
       "    }\n",
       "</style>\n",
       "<table border=\"1\" class=\"dataframe\">\n",
       "  <thead>\n",
       "    <tr style=\"text-align: right;\">\n",
       "      <th></th>\n",
       "      <th>0</th>\n",
       "      <th>1</th>\n",
       "      <th>2</th>\n",
       "      <th>3</th>\n",
       "      <th>4</th>\n",
       "      <th>5</th>\n",
       "      <th>6</th>\n",
       "    </tr>\n",
       "  </thead>\n",
       "  <tbody>\n",
       "    <tr>\n",
       "      <th>0</th>\n",
       "      <td>shrimp</td>\n",
       "      <td>almonds</td>\n",
       "      <td>avocado</td>\n",
       "      <td>vegetables mix</td>\n",
       "      <td>green grapes</td>\n",
       "      <td>whole weat flour</td>\n",
       "      <td>yams</td>\n",
       "    </tr>\n",
       "    <tr>\n",
       "      <th>1</th>\n",
       "      <td>burgers</td>\n",
       "      <td>meatballs</td>\n",
       "      <td>eggs</td>\n",
       "      <td>NaN</td>\n",
       "      <td>NaN</td>\n",
       "      <td>NaN</td>\n",
       "      <td>NaN</td>\n",
       "    </tr>\n",
       "    <tr>\n",
       "      <th>2</th>\n",
       "      <td>chutney</td>\n",
       "      <td>NaN</td>\n",
       "      <td>NaN</td>\n",
       "      <td>NaN</td>\n",
       "      <td>NaN</td>\n",
       "      <td>NaN</td>\n",
       "      <td>NaN</td>\n",
       "    </tr>\n",
       "    <tr>\n",
       "      <th>3</th>\n",
       "      <td>turkey</td>\n",
       "      <td>avocado</td>\n",
       "      <td>NaN</td>\n",
       "      <td>NaN</td>\n",
       "      <td>NaN</td>\n",
       "      <td>NaN</td>\n",
       "      <td>NaN</td>\n",
       "    </tr>\n",
       "    <tr>\n",
       "      <th>4</th>\n",
       "      <td>mineral water</td>\n",
       "      <td>milk</td>\n",
       "      <td>energy bar</td>\n",
       "      <td>whole wheat rice</td>\n",
       "      <td>green tea</td>\n",
       "      <td>NaN</td>\n",
       "      <td>NaN</td>\n",
       "    </tr>\n",
       "  </tbody>\n",
       "</table>\n",
       "</div>"
      ],
      "text/plain": [
       "               0          1           2                 3             4  \\\n",
       "0         shrimp    almonds     avocado    vegetables mix  green grapes   \n",
       "1        burgers  meatballs        eggs               NaN           NaN   \n",
       "2        chutney        NaN         NaN               NaN           NaN   \n",
       "3         turkey    avocado         NaN               NaN           NaN   \n",
       "4  mineral water       milk  energy bar  whole wheat rice     green tea   \n",
       "\n",
       "                  5     6  \n",
       "0  whole weat flour  yams  \n",
       "1               NaN   NaN  \n",
       "2               NaN   NaN  \n",
       "3               NaN   NaN  \n",
       "4               NaN   NaN  "
      ]
     },
     "execution_count": 1,
     "metadata": {},
     "output_type": "execute_result"
    }
   ],
   "source": [
    "# importing dataset ( example 1 and example 2 are datasets in pyECLAT)\n",
    "from pyECLAT import Example2\n",
    "\n",
    "# storing the dataset in a variable\n",
    "dataset = Example2().get()\n",
    "\n",
    "# printing the dataset\n",
    "dataset.head()"
   ]
  },
  {
   "cell_type": "code",
   "execution_count": 2,
   "metadata": {},
   "outputs": [
    {
     "name": "stdout",
     "output_type": "stream",
     "text": [
      "<class 'pandas.core.frame.DataFrame'>\n",
      "RangeIndex: 3001 entries, 0 to 3000\n",
      "Data columns (total 7 columns):\n",
      " #   Column  Non-Null Count  Dtype \n",
      "---  ------  --------------  ----- \n",
      " 0   0       3001 non-null   object\n",
      " 1   1       2315 non-null   object\n",
      " 2   2       1774 non-null   object\n",
      " 3   3       1374 non-null   object\n",
      " 4   4       1048 non-null   object\n",
      " 5   5       775 non-null    object\n",
      " 6   6       581 non-null    object\n",
      "dtypes: object(7)\n",
      "memory usage: 164.2+ KB\n"
     ]
    }
   ],
   "source": [
    "dataset.info()"
   ]
  },
  {
   "cell_type": "code",
   "execution_count": 3,
   "metadata": {},
   "outputs": [
    {
     "data": {
      "text/html": [
       "<div>\n",
       "<style scoped>\n",
       "    .dataframe tbody tr th:only-of-type {\n",
       "        vertical-align: middle;\n",
       "    }\n",
       "\n",
       "    .dataframe tbody tr th {\n",
       "        vertical-align: top;\n",
       "    }\n",
       "\n",
       "    .dataframe thead th {\n",
       "        text-align: right;\n",
       "    }\n",
       "</style>\n",
       "<table border=\"1\" class=\"dataframe\">\n",
       "  <thead>\n",
       "    <tr style=\"text-align: right;\">\n",
       "      <th></th>\n",
       "      <th>rice</th>\n",
       "      <th>light mayo</th>\n",
       "      <th>green tea</th>\n",
       "      <th>frozen vegetables</th>\n",
       "      <th>grated cheese</th>\n",
       "      <th>white wine</th>\n",
       "      <th>fromage blanc</th>\n",
       "      <th>mint</th>\n",
       "      <th>energy drink</th>\n",
       "      <th>burgers</th>\n",
       "      <th>...</th>\n",
       "      <th>parmesan cheese</th>\n",
       "      <th>honey</th>\n",
       "      <th>frozen smoothie</th>\n",
       "      <th>brownies</th>\n",
       "      <th>cookies</th>\n",
       "      <th>almonds</th>\n",
       "      <th>butter</th>\n",
       "      <th>pickles</th>\n",
       "      <th>tomato sauce</th>\n",
       "      <th>vegetables mix</th>\n",
       "    </tr>\n",
       "  </thead>\n",
       "  <tbody>\n",
       "    <tr>\n",
       "      <th>0</th>\n",
       "      <td>0</td>\n",
       "      <td>0</td>\n",
       "      <td>0</td>\n",
       "      <td>0</td>\n",
       "      <td>0</td>\n",
       "      <td>0</td>\n",
       "      <td>0</td>\n",
       "      <td>0</td>\n",
       "      <td>0</td>\n",
       "      <td>0</td>\n",
       "      <td>...</td>\n",
       "      <td>0</td>\n",
       "      <td>0</td>\n",
       "      <td>0</td>\n",
       "      <td>0</td>\n",
       "      <td>0</td>\n",
       "      <td>1</td>\n",
       "      <td>0</td>\n",
       "      <td>0</td>\n",
       "      <td>0</td>\n",
       "      <td>1</td>\n",
       "    </tr>\n",
       "    <tr>\n",
       "      <th>1</th>\n",
       "      <td>0</td>\n",
       "      <td>0</td>\n",
       "      <td>0</td>\n",
       "      <td>0</td>\n",
       "      <td>0</td>\n",
       "      <td>0</td>\n",
       "      <td>0</td>\n",
       "      <td>0</td>\n",
       "      <td>0</td>\n",
       "      <td>1</td>\n",
       "      <td>...</td>\n",
       "      <td>0</td>\n",
       "      <td>0</td>\n",
       "      <td>0</td>\n",
       "      <td>0</td>\n",
       "      <td>0</td>\n",
       "      <td>0</td>\n",
       "      <td>0</td>\n",
       "      <td>0</td>\n",
       "      <td>0</td>\n",
       "      <td>0</td>\n",
       "    </tr>\n",
       "    <tr>\n",
       "      <th>2</th>\n",
       "      <td>0</td>\n",
       "      <td>0</td>\n",
       "      <td>0</td>\n",
       "      <td>0</td>\n",
       "      <td>0</td>\n",
       "      <td>0</td>\n",
       "      <td>0</td>\n",
       "      <td>0</td>\n",
       "      <td>0</td>\n",
       "      <td>0</td>\n",
       "      <td>...</td>\n",
       "      <td>0</td>\n",
       "      <td>0</td>\n",
       "      <td>0</td>\n",
       "      <td>0</td>\n",
       "      <td>0</td>\n",
       "      <td>0</td>\n",
       "      <td>0</td>\n",
       "      <td>0</td>\n",
       "      <td>0</td>\n",
       "      <td>0</td>\n",
       "    </tr>\n",
       "    <tr>\n",
       "      <th>3</th>\n",
       "      <td>0</td>\n",
       "      <td>0</td>\n",
       "      <td>0</td>\n",
       "      <td>0</td>\n",
       "      <td>0</td>\n",
       "      <td>0</td>\n",
       "      <td>0</td>\n",
       "      <td>0</td>\n",
       "      <td>0</td>\n",
       "      <td>0</td>\n",
       "      <td>...</td>\n",
       "      <td>0</td>\n",
       "      <td>0</td>\n",
       "      <td>0</td>\n",
       "      <td>0</td>\n",
       "      <td>0</td>\n",
       "      <td>0</td>\n",
       "      <td>0</td>\n",
       "      <td>0</td>\n",
       "      <td>0</td>\n",
       "      <td>0</td>\n",
       "    </tr>\n",
       "    <tr>\n",
       "      <th>4</th>\n",
       "      <td>0</td>\n",
       "      <td>0</td>\n",
       "      <td>1</td>\n",
       "      <td>0</td>\n",
       "      <td>0</td>\n",
       "      <td>0</td>\n",
       "      <td>0</td>\n",
       "      <td>0</td>\n",
       "      <td>0</td>\n",
       "      <td>0</td>\n",
       "      <td>...</td>\n",
       "      <td>0</td>\n",
       "      <td>0</td>\n",
       "      <td>0</td>\n",
       "      <td>0</td>\n",
       "      <td>0</td>\n",
       "      <td>0</td>\n",
       "      <td>0</td>\n",
       "      <td>0</td>\n",
       "      <td>0</td>\n",
       "      <td>0</td>\n",
       "    </tr>\n",
       "    <tr>\n",
       "      <th>...</th>\n",
       "      <td>...</td>\n",
       "      <td>...</td>\n",
       "      <td>...</td>\n",
       "      <td>...</td>\n",
       "      <td>...</td>\n",
       "      <td>...</td>\n",
       "      <td>...</td>\n",
       "      <td>...</td>\n",
       "      <td>...</td>\n",
       "      <td>...</td>\n",
       "      <td>...</td>\n",
       "      <td>...</td>\n",
       "      <td>...</td>\n",
       "      <td>...</td>\n",
       "      <td>...</td>\n",
       "      <td>...</td>\n",
       "      <td>...</td>\n",
       "      <td>...</td>\n",
       "      <td>...</td>\n",
       "      <td>...</td>\n",
       "      <td>...</td>\n",
       "    </tr>\n",
       "    <tr>\n",
       "      <th>2996</th>\n",
       "      <td>0</td>\n",
       "      <td>0</td>\n",
       "      <td>1</td>\n",
       "      <td>0</td>\n",
       "      <td>0</td>\n",
       "      <td>0</td>\n",
       "      <td>0</td>\n",
       "      <td>0</td>\n",
       "      <td>0</td>\n",
       "      <td>0</td>\n",
       "      <td>...</td>\n",
       "      <td>0</td>\n",
       "      <td>0</td>\n",
       "      <td>0</td>\n",
       "      <td>0</td>\n",
       "      <td>0</td>\n",
       "      <td>0</td>\n",
       "      <td>0</td>\n",
       "      <td>0</td>\n",
       "      <td>0</td>\n",
       "      <td>0</td>\n",
       "    </tr>\n",
       "    <tr>\n",
       "      <th>2997</th>\n",
       "      <td>0</td>\n",
       "      <td>0</td>\n",
       "      <td>0</td>\n",
       "      <td>0</td>\n",
       "      <td>0</td>\n",
       "      <td>0</td>\n",
       "      <td>0</td>\n",
       "      <td>0</td>\n",
       "      <td>0</td>\n",
       "      <td>0</td>\n",
       "      <td>...</td>\n",
       "      <td>0</td>\n",
       "      <td>0</td>\n",
       "      <td>0</td>\n",
       "      <td>0</td>\n",
       "      <td>0</td>\n",
       "      <td>0</td>\n",
       "      <td>0</td>\n",
       "      <td>0</td>\n",
       "      <td>0</td>\n",
       "      <td>0</td>\n",
       "    </tr>\n",
       "    <tr>\n",
       "      <th>2998</th>\n",
       "      <td>0</td>\n",
       "      <td>0</td>\n",
       "      <td>0</td>\n",
       "      <td>0</td>\n",
       "      <td>0</td>\n",
       "      <td>0</td>\n",
       "      <td>0</td>\n",
       "      <td>0</td>\n",
       "      <td>0</td>\n",
       "      <td>0</td>\n",
       "      <td>...</td>\n",
       "      <td>0</td>\n",
       "      <td>0</td>\n",
       "      <td>0</td>\n",
       "      <td>0</td>\n",
       "      <td>0</td>\n",
       "      <td>0</td>\n",
       "      <td>0</td>\n",
       "      <td>0</td>\n",
       "      <td>0</td>\n",
       "      <td>0</td>\n",
       "    </tr>\n",
       "    <tr>\n",
       "      <th>2999</th>\n",
       "      <td>0</td>\n",
       "      <td>0</td>\n",
       "      <td>0</td>\n",
       "      <td>1</td>\n",
       "      <td>0</td>\n",
       "      <td>0</td>\n",
       "      <td>0</td>\n",
       "      <td>0</td>\n",
       "      <td>0</td>\n",
       "      <td>1</td>\n",
       "      <td>...</td>\n",
       "      <td>0</td>\n",
       "      <td>0</td>\n",
       "      <td>0</td>\n",
       "      <td>0</td>\n",
       "      <td>0</td>\n",
       "      <td>0</td>\n",
       "      <td>0</td>\n",
       "      <td>0</td>\n",
       "      <td>0</td>\n",
       "      <td>0</td>\n",
       "    </tr>\n",
       "    <tr>\n",
       "      <th>3000</th>\n",
       "      <td>0</td>\n",
       "      <td>0</td>\n",
       "      <td>1</td>\n",
       "      <td>0</td>\n",
       "      <td>0</td>\n",
       "      <td>0</td>\n",
       "      <td>0</td>\n",
       "      <td>0</td>\n",
       "      <td>0</td>\n",
       "      <td>0</td>\n",
       "      <td>...</td>\n",
       "      <td>0</td>\n",
       "      <td>0</td>\n",
       "      <td>0</td>\n",
       "      <td>0</td>\n",
       "      <td>0</td>\n",
       "      <td>0</td>\n",
       "      <td>0</td>\n",
       "      <td>0</td>\n",
       "      <td>0</td>\n",
       "      <td>0</td>\n",
       "    </tr>\n",
       "  </tbody>\n",
       "</table>\n",
       "<p>3001 rows × 119 columns</p>\n",
       "</div>"
      ],
      "text/plain": [
       "      rice  light mayo  green tea  frozen vegetables  grated cheese  \\\n",
       "0        0           0          0                  0              0   \n",
       "1        0           0          0                  0              0   \n",
       "2        0           0          0                  0              0   \n",
       "3        0           0          0                  0              0   \n",
       "4        0           0          1                  0              0   \n",
       "...    ...         ...        ...                ...            ...   \n",
       "2996     0           0          1                  0              0   \n",
       "2997     0           0          0                  0              0   \n",
       "2998     0           0          0                  0              0   \n",
       "2999     0           0          0                  1              0   \n",
       "3000     0           0          1                  0              0   \n",
       "\n",
       "      white wine  fromage blanc  mint  energy drink  burgers  ...  \\\n",
       "0              0              0     0             0        0  ...   \n",
       "1              0              0     0             0        1  ...   \n",
       "2              0              0     0             0        0  ...   \n",
       "3              0              0     0             0        0  ...   \n",
       "4              0              0     0             0        0  ...   \n",
       "...          ...            ...   ...           ...      ...  ...   \n",
       "2996           0              0     0             0        0  ...   \n",
       "2997           0              0     0             0        0  ...   \n",
       "2998           0              0     0             0        0  ...   \n",
       "2999           0              0     0             0        1  ...   \n",
       "3000           0              0     0             0        0  ...   \n",
       "\n",
       "      parmesan cheese  honey  frozen smoothie  brownies  cookies  almonds  \\\n",
       "0                   0      0                0         0        0        1   \n",
       "1                   0      0                0         0        0        0   \n",
       "2                   0      0                0         0        0        0   \n",
       "3                   0      0                0         0        0        0   \n",
       "4                   0      0                0         0        0        0   \n",
       "...               ...    ...              ...       ...      ...      ...   \n",
       "2996                0      0                0         0        0        0   \n",
       "2997                0      0                0         0        0        0   \n",
       "2998                0      0                0         0        0        0   \n",
       "2999                0      0                0         0        0        0   \n",
       "3000                0      0                0         0        0        0   \n",
       "\n",
       "      butter  pickles  tomato sauce  vegetables mix  \n",
       "0          0        0             0               1  \n",
       "1          0        0             0               0  \n",
       "2          0        0             0               0  \n",
       "3          0        0             0               0  \n",
       "4          0        0             0               0  \n",
       "...      ...      ...           ...             ...  \n",
       "2996       0        0             0               0  \n",
       "2997       0        0             0               0  \n",
       "2998       0        0             0               0  \n",
       "2999       0        0             0               0  \n",
       "3000       0        0             0               0  \n",
       "\n",
       "[3001 rows x 119 columns]"
      ]
     },
     "execution_count": 3,
     "metadata": {},
     "output_type": "execute_result"
    }
   ],
   "source": [
    "## Visualizing the frequent items\n",
    "# importing the ECLAT module\n",
    "from pyECLAT import ECLAT\n",
    "\n",
    "# loading transactions DataFrame to ECLAT class\n",
    "eclat = ECLAT(data=dataset)\n",
    "\n",
    "# DataFrame of binary values\n",
    "eclat.df_bin"
   ]
  },
  {
   "cell_type": "markdown",
   "metadata": {},
   "source": [
    "In this binary dataset, every row represents a transaction. Columns are possible products that might appear in every transaction. Every cell contains one of two possible values:\n",
    "\n",
    "0 — the product was not included in the transaction\n",
    "1 — the transaction contains the product"
   ]
  },
  {
   "cell_type": "code",
   "execution_count": 4,
   "metadata": {},
   "outputs": [
    {
     "data": {
      "text/plain": [
       "rice                  50\n",
       "light mayo            70\n",
       "green tea            340\n",
       "frozen vegetables    276\n",
       "grated cheese        166\n",
       "                    ... \n",
       "almonds               52\n",
       "butter                89\n",
       "pickles               17\n",
       "tomato sauce          52\n",
       "vegetables mix        59\n",
       "Length: 119, dtype: int64"
      ]
     },
     "execution_count": 4,
     "metadata": {},
     "output_type": "execute_result"
    }
   ],
   "source": [
    "# count items in each column\n",
    "items_total = eclat.df_bin.astype(int).sum(axis=0)\n",
    "\n",
    "items_total"
   ]
  },
  {
   "cell_type": "code",
   "execution_count": 5,
   "metadata": {},
   "outputs": [
    {
     "data": {
      "text/plain": [
       "0       7\n",
       "1       3\n",
       "2       1\n",
       "3       2\n",
       "4       5\n",
       "       ..\n",
       "2996    1\n",
       "2997    2\n",
       "2998    3\n",
       "2999    7\n",
       "3000    5\n",
       "Length: 3001, dtype: int64"
      ]
     },
     "execution_count": 5,
     "metadata": {},
     "output_type": "execute_result"
    }
   ],
   "source": [
    "# count items in each row\n",
    "items_per_transaction = eclat.df_bin.astype(int).sum(axis=1)\n",
    "\n",
    "items_per_transaction"
   ]
  },
  {
   "cell_type": "code",
   "execution_count": 8,
   "metadata": {},
   "outputs": [
    {
     "data": {
      "text/html": [
       "<style type=\"text/css\">\n",
       "#T_bd544_row0_col1 {\n",
       "  background-color: #08306b;\n",
       "  color: #f1f1f1;\n",
       "}\n",
       "#T_bd544_row1_col1 {\n",
       "  background-color: #a8cee4;\n",
       "  color: #000000;\n",
       "}\n",
       "#T_bd544_row2_col1 {\n",
       "  background-color: #bdd7ec;\n",
       "  color: #000000;\n",
       "}\n",
       "#T_bd544_row3_col1 {\n",
       "  background-color: #e6f0f9;\n",
       "  color: #000000;\n",
       "}\n",
       "#T_bd544_row4_col1 {\n",
       "  background-color: #f7fbff;\n",
       "  color: #000000;\n",
       "}\n",
       "</style>\n",
       "<table id=\"T_bd544\">\n",
       "  <thead>\n",
       "    <tr>\n",
       "      <th class=\"blank level0\" >&nbsp;</th>\n",
       "      <th id=\"T_bd544_level0_col0\" class=\"col_heading level0 col0\" >items</th>\n",
       "      <th id=\"T_bd544_level0_col1\" class=\"col_heading level0 col1\" >transactions</th>\n",
       "    </tr>\n",
       "  </thead>\n",
       "  <tbody>\n",
       "    <tr>\n",
       "      <th id=\"T_bd544_level0_row0\" class=\"row_heading level0 row0\" >92</th>\n",
       "      <td id=\"T_bd544_row0_col0\" class=\"data row0 col0\" >mineral water</td>\n",
       "      <td id=\"T_bd544_row0_col1\" class=\"data row0 col1\" >711</td>\n",
       "    </tr>\n",
       "    <tr>\n",
       "      <th id=\"T_bd544_level0_row1\" class=\"row_heading level0 row1\" >88</th>\n",
       "      <td id=\"T_bd544_row1_col0\" class=\"data row1 col0\" >spaghetti</td>\n",
       "      <td id=\"T_bd544_row1_col1\" class=\"data row1 col1\" >549</td>\n",
       "    </tr>\n",
       "    <tr>\n",
       "      <th id=\"T_bd544_level0_row2\" class=\"row_heading level0 row2\" >13</th>\n",
       "      <td id=\"T_bd544_row2_col0\" class=\"data row2 col0\" >eggs</td>\n",
       "      <td id=\"T_bd544_row2_col1\" class=\"data row2 col1\" >532</td>\n",
       "    </tr>\n",
       "    <tr>\n",
       "      <th id=\"T_bd544_level0_row3\" class=\"row_heading level0 row3\" >97</th>\n",
       "      <td id=\"T_bd544_row3_col0\" class=\"data row3 col0\" >chocolate</td>\n",
       "      <td id=\"T_bd544_row3_col1\" class=\"data row3 col1\" >485</td>\n",
       "    </tr>\n",
       "    <tr>\n",
       "      <th id=\"T_bd544_level0_row4\" class=\"row_heading level0 row4\" >53</th>\n",
       "      <td id=\"T_bd544_row4_col0\" class=\"data row4 col0\" >french fries</td>\n",
       "      <td id=\"T_bd544_row4_col1\" class=\"data row4 col1\" >463</td>\n",
       "    </tr>\n",
       "  </tbody>\n",
       "</table>\n"
      ],
      "text/plain": [
       "<pandas.io.formats.style.Styler at 0x28ff2932d20>"
      ]
     },
     "execution_count": 8,
     "metadata": {},
     "output_type": "execute_result"
    }
   ],
   "source": [
    "## Frequent ItemList\n",
    "import pandas as pd\n",
    "\n",
    "# Loading items per column stats to the DataFrame\n",
    "df = pd.DataFrame({'items': items_total.index, 'transactions': items_total.values}) \n",
    "\n",
    "# cloning pandas DataFrame for visualization purpose  \n",
    "df_table = df.sort_values(\"transactions\", ascending=False)\n",
    "\n",
    "#  Top 5 most popular products/items\n",
    "df_table.head(5).style.background_gradient(cmap='Blues')"
   ]
  },
  {
   "cell_type": "markdown",
   "metadata": {},
   "source": [
    "To generate association rules, we need to define:\n",
    "\n",
    "Minimum support — should be provided as a percentage of the overall items from the dataset\n",
    "Minumum combinations — the minimum amount of items in the transaction\n",
    "Maximum combinations — the minimum amount of items in the transaction.\n",
    "Note: the higher the value of the maximum combinations the longer the calculation will take"
   ]
  },
  {
   "cell_type": "code",
   "execution_count": 9,
   "metadata": {},
   "outputs": [
    {
     "name": "stdout",
     "output_type": "stream",
     "text": [
      "Combination 2 by 2\n"
     ]
    },
    {
     "name": "stderr",
     "output_type": "stream",
     "text": [
      "253it [00:00, 319.76it/s]\n"
     ]
    },
    {
     "name": "stdout",
     "output_type": "stream",
     "text": [
      "Combination 3 by 3\n"
     ]
    },
    {
     "name": "stderr",
     "output_type": "stream",
     "text": [
      "1771it [00:05, 305.66it/s]\n"
     ]
    },
    {
     "name": "stdout",
     "output_type": "stream",
     "text": [
      "Combination 4 by 4\n"
     ]
    },
    {
     "name": "stderr",
     "output_type": "stream",
     "text": [
      "8855it [00:29, 297.58it/s]\n"
     ]
    },
    {
     "name": "stdout",
     "output_type": "stream",
     "text": [
      "Combination 5 by 5\n"
     ]
    },
    {
     "name": "stderr",
     "output_type": "stream",
     "text": [
      "33649it [02:14, 250.08it/s]\n"
     ]
    },
    {
     "name": "stdout",
     "output_type": "stream",
     "text": [
      "Combination 6 by 6\n"
     ]
    },
    {
     "name": "stderr",
     "output_type": "stream",
     "text": [
      "100947it [07:01, 239.61it/s]\n"
     ]
    },
    {
     "name": "stdout",
     "output_type": "stream",
     "text": [
      "Combination 7 by 7\n"
     ]
    },
    {
     "name": "stderr",
     "output_type": "stream",
     "text": [
      "245157it [18:15, 223.69it/s]\n"
     ]
    }
   ],
   "source": [
    "# the item shoud appear at least at 5% of transactions\n",
    "min_support = 5/100\n",
    "\n",
    "# start from transactions containing at least 2 items\n",
    "min_combination = 2\n",
    "\n",
    "# up to maximum items per transaction\n",
    "max_combination = max(items_per_transaction)\n",
    "\n",
    "rule_indices, rule_supports = eclat.fit(min_support=min_support,\n",
    "                                                 min_combination=min_combination,\n",
    "                                                 max_combination=max_combination,\n",
    "                                                 separator=' & ',\n",
    "                                                 verbose=True)"
   ]
  },
  {
   "cell_type": "markdown",
   "metadata": {},
   "source": [
    "The fit() method of the ECLAT class returns:\n",
    "\n",
    "association rule indices\n",
    "association rule support values"
   ]
  },
  {
   "cell_type": "code",
   "execution_count": 10,
   "metadata": {},
   "outputs": [
    {
     "data": {
      "text/html": [
       "<div>\n",
       "<style scoped>\n",
       "    .dataframe tbody tr th:only-of-type {\n",
       "        vertical-align: middle;\n",
       "    }\n",
       "\n",
       "    .dataframe tbody tr th {\n",
       "        vertical-align: top;\n",
       "    }\n",
       "\n",
       "    .dataframe thead th {\n",
       "        text-align: right;\n",
       "    }\n",
       "</style>\n",
       "<table border=\"1\" class=\"dataframe\">\n",
       "  <thead>\n",
       "    <tr style=\"text-align: right;\">\n",
       "      <th></th>\n",
       "      <th>Item</th>\n",
       "      <th>Support</th>\n",
       "    </tr>\n",
       "  </thead>\n",
       "  <tbody>\n",
       "    <tr>\n",
       "      <th>0</th>\n",
       "      <td>spaghetti &amp; mineral water</td>\n",
       "      <td>0.060646</td>\n",
       "    </tr>\n",
       "  </tbody>\n",
       "</table>\n",
       "</div>"
      ],
      "text/plain": [
       "                        Item   Support\n",
       "0  spaghetti & mineral water  0.060646"
      ]
     },
     "execution_count": 10,
     "metadata": {},
     "output_type": "execute_result"
    }
   ],
   "source": [
    "import pandas as pd\n",
    "\n",
    "result = pd.DataFrame(rule_supports.items(),columns=['Item', 'Support'])\n",
    "result.sort_values(by=['Support'], ascending=False)"
   ]
  },
  {
   "cell_type": "markdown",
   "metadata": {},
   "source": [
    "We found that mineral water and spaghetti are commonly purchased by the customers based on the transactions data in our dataset and the minimum support value we’ve provided."
   ]
  }
 ],
 "metadata": {
  "kernelspec": {
   "display_name": "my_venv",
   "language": "python",
   "name": "python3"
  },
  "language_info": {
   "codemirror_mode": {
    "name": "ipython",
    "version": 3
   },
   "file_extension": ".py",
   "mimetype": "text/x-python",
   "name": "python",
   "nbconvert_exporter": "python",
   "pygments_lexer": "ipython3",
   "version": "3.12.1"
  }
 },
 "nbformat": 4,
 "nbformat_minor": 2
}
